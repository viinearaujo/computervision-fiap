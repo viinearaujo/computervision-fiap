{
 "cells": [
  {
   "cell_type": "code",
   "execution_count": 3,
   "metadata": {},
   "outputs": [
    {
     "name": "stdout",
     "output_type": "stream",
     "text": [
      "Requirement already satisfied: opencv-python in d:\\fiap\\computervision\\computervision-fiap\\.venv\\lib\\site-packages (4.9.0.80)\n",
      "Requirement already satisfied: mediapipe in d:\\fiap\\computervision\\computervision-fiap\\.venv\\lib\\site-packages (0.10.14)\n",
      "Requirement already satisfied: numpy>=1.21.2 in d:\\fiap\\computervision\\computervision-fiap\\.venv\\lib\\site-packages (from opencv-python) (1.26.4)\n",
      "Requirement already satisfied: absl-py in d:\\fiap\\computervision\\computervision-fiap\\.venv\\lib\\site-packages (from mediapipe) (2.1.0)\n",
      "Requirement already satisfied: attrs>=19.1.0 in d:\\fiap\\computervision\\computervision-fiap\\.venv\\lib\\site-packages (from mediapipe) (23.2.0)\n",
      "Requirement already satisfied: flatbuffers>=2.0 in d:\\fiap\\computervision\\computervision-fiap\\.venv\\lib\\site-packages (from mediapipe) (24.3.25)\n",
      "Requirement already satisfied: jax in d:\\fiap\\computervision\\computervision-fiap\\.venv\\lib\\site-packages (from mediapipe) (0.4.28)\n",
      "Requirement already satisfied: jaxlib in d:\\fiap\\computervision\\computervision-fiap\\.venv\\lib\\site-packages (from mediapipe) (0.4.28)\n",
      "Requirement already satisfied: matplotlib in d:\\fiap\\computervision\\computervision-fiap\\.venv\\lib\\site-packages (from mediapipe) (3.8.4)\n",
      "Requirement already satisfied: opencv-contrib-python in d:\\fiap\\computervision\\computervision-fiap\\.venv\\lib\\site-packages (from mediapipe) (4.9.0.80)\n",
      "Requirement already satisfied: protobuf<5,>=4.25.3 in d:\\fiap\\computervision\\computervision-fiap\\.venv\\lib\\site-packages (from mediapipe) (4.25.3)\n",
      "Requirement already satisfied: sounddevice>=0.4.4 in d:\\fiap\\computervision\\computervision-fiap\\.venv\\lib\\site-packages (from mediapipe) (0.4.6)\n",
      "Requirement already satisfied: CFFI>=1.0 in d:\\fiap\\computervision\\computervision-fiap\\.venv\\lib\\site-packages (from sounddevice>=0.4.4->mediapipe) (1.16.0)\n",
      "Requirement already satisfied: ml-dtypes>=0.2.0 in d:\\fiap\\computervision\\computervision-fiap\\.venv\\lib\\site-packages (from jax->mediapipe) (0.4.0)\n",
      "Requirement already satisfied: opt-einsum in d:\\fiap\\computervision\\computervision-fiap\\.venv\\lib\\site-packages (from jax->mediapipe) (3.3.0)\n",
      "Requirement already satisfied: scipy>=1.9 in d:\\fiap\\computervision\\computervision-fiap\\.venv\\lib\\site-packages (from jax->mediapipe) (1.13.0)\n",
      "Requirement already satisfied: contourpy>=1.0.1 in d:\\fiap\\computervision\\computervision-fiap\\.venv\\lib\\site-packages (from matplotlib->mediapipe) (1.2.1)\n",
      "Requirement already satisfied: cycler>=0.10 in d:\\fiap\\computervision\\computervision-fiap\\.venv\\lib\\site-packages (from matplotlib->mediapipe) (0.12.1)\n",
      "Requirement already satisfied: fonttools>=4.22.0 in d:\\fiap\\computervision\\computervision-fiap\\.venv\\lib\\site-packages (from matplotlib->mediapipe) (4.51.0)\n",
      "Requirement already satisfied: kiwisolver>=1.3.1 in d:\\fiap\\computervision\\computervision-fiap\\.venv\\lib\\site-packages (from matplotlib->mediapipe) (1.4.5)\n",
      "Requirement already satisfied: packaging>=20.0 in d:\\fiap\\computervision\\computervision-fiap\\.venv\\lib\\site-packages (from matplotlib->mediapipe) (24.0)\n",
      "Requirement already satisfied: pillow>=8 in d:\\fiap\\computervision\\computervision-fiap\\.venv\\lib\\site-packages (from matplotlib->mediapipe) (10.3.0)\n",
      "Requirement already satisfied: pyparsing>=2.3.1 in d:\\fiap\\computervision\\computervision-fiap\\.venv\\lib\\site-packages (from matplotlib->mediapipe) (3.1.2)\n",
      "Requirement already satisfied: python-dateutil>=2.7 in d:\\fiap\\computervision\\computervision-fiap\\.venv\\lib\\site-packages (from matplotlib->mediapipe) (2.9.0.post0)\n",
      "Requirement already satisfied: pycparser in d:\\fiap\\computervision\\computervision-fiap\\.venv\\lib\\site-packages (from CFFI>=1.0->sounddevice>=0.4.4->mediapipe) (2.22)\n",
      "Requirement already satisfied: six>=1.5 in d:\\fiap\\computervision\\computervision-fiap\\.venv\\lib\\site-packages (from python-dateutil>=2.7->matplotlib->mediapipe) (1.16.0)\n"
     ]
    }
   ],
   "source": [
    "!pip install opencv-python mediapipe"
   ]
  },
  {
   "cell_type": "code",
   "execution_count": 19,
   "metadata": {},
   "outputs": [],
   "source": [
    "import cv2\n",
    "import mediapipe as mp\n",
    "\n",
    "# Inicializa o módulo de mãos do mediapipe\n",
    "mp_hands = mp.solutions.hands\n",
    "hands = mp_hands.Hands()\n",
    "\n",
    "# Inicializa a captura de vídeo\n",
    "cap = cv2.VideoCapture(0)\n",
    "\n",
    "while cap.isOpened():\n",
    "    # Captura o próximo frame da câmera\n",
    "    ret, frame = cap.read()\n",
    "    if not ret:\n",
    "        break\n",
    "\n",
    "    # Converte a imagem para RGB\n",
    "    frame_rgb = cv2.cvtColor(frame, cv2.COLOR_BGR2RGB)\n",
    "\n",
    "    # Processa a imagem e obtém os landmarks das mãos\n",
    "    results = hands.process(frame_rgb)\n",
    "\n",
    "    # Verifica se foram detectadas múltiplas mãos\n",
    "    if results.multi_hand_landmarks:\n",
    "        for hand_landmarks in results.multi_hand_landmarks:\n",
    "            # Desenha quadrados coloridos ao redor dos landmarks para visualização\n",
    "            for lm in hand_landmarks.landmark:\n",
    "                h, w, c = frame.shape\n",
    "                cx, cy = int(lm.x * w), int(lm.y * h)\n",
    "                cv2.rectangle(frame, (cx - 5, cy - 5), (cx + 5, cy + 5), (255, 0, 0), -1)\n",
    "\n",
    "            # Verifica se a mão detectada é a mão esquerda\n",
    "            if hand_landmarks.landmark[mp_hands.HandLandmark.INDEX_FINGER_TIP].x < hand_landmarks.landmark[mp_hands.HandLandmark.MIDDLE_FINGER_TIP].x:\n",
    "                wrist_y = hand_landmarks.landmark[mp_hands.HandLandmark.WRIST].y\n",
    "                middle_finger_tip_y = hand_landmarks.landmark[mp_hands.HandLandmark.MIDDLE_FINGER_TIP].y\n",
    "                # Verifica se a mão esquerda está levantada ou abaixada e exibe o texto correspondente\n",
    "                if wrist_y > middle_finger_tip_y:\n",
    "                    cv2.putText(frame, 'Mao esq levantada!', (frame.shape[1] - 310, 30), cv2.FONT_HERSHEY_SIMPLEX, 1, (0, 255, 0), 2)\n",
    "                else:\n",
    "                    cv2.putText(frame, 'Mao esq abaixada', (frame.shape[1] - 310, 30), cv2.FONT_HERSHEY_SIMPLEX, 1, (0, 0, 255), 2)\n",
    "            else:\n",
    "                wrist_y = hand_landmarks.landmark[mp_hands.HandLandmark.WRIST].y\n",
    "                middle_finger_tip_y = hand_landmarks.landmark[mp_hands.HandLandmark.MIDDLE_FINGER_TIP].y\n",
    "                # Verifica se a mão direita está levantada ou abaixada e exibe o texto correspondente\n",
    "                if wrist_y > middle_finger_tip_y:\n",
    "                    cv2.putText(frame, 'Mao dir levantada!', (10, 30), cv2.FONT_HERSHEY_SIMPLEX, 1, (0, 255, 0), 2)\n",
    "                else:\n",
    "                    cv2.putText(frame, 'Mao dir abaixada', (10, 30), cv2.FONT_HERSHEY_SIMPLEX, 1, (0, 0, 255), 2)\n",
    "\n",
    "    # Exibe o frame com os landmarks e as informações sobre as mãos\n",
    "    cv2.imshow('Deteccao de Vivacidade', frame)\n",
    "    \n",
    "    # Aguarda a tecla 'q' ser pressionada para sair do loop\n",
    "    if cv2.waitKey(1) & 0xFF == ord('q'):\n",
    "        break\n",
    "\n",
    "# Libera os recursos e fecha as janelas\n",
    "cap.release()\n",
    "cv2.destroyAllWindows()\n"
   ]
  }
 ],
 "metadata": {
  "kernelspec": {
   "display_name": ".venv",
   "language": "python",
   "name": "python3"
  },
  "language_info": {
   "codemirror_mode": {
    "name": "ipython",
    "version": 3
   },
   "file_extension": ".py",
   "mimetype": "text/x-python",
   "name": "python",
   "nbconvert_exporter": "python",
   "pygments_lexer": "ipython3",
   "version": "3.11.9"
  }
 },
 "nbformat": 4,
 "nbformat_minor": 2
}

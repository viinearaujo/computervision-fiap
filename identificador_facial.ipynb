{
 "cells": [
  {
   "cell_type": "code",
   "execution_count": 3,
   "metadata": {},
   "outputs": [
    {
     "name": "stdout",
     "output_type": "stream",
     "text": [
      "Requirement already satisfied: dlib in d:\\fiap\\computervision\\computervision-fiap\\.venv\\lib\\site-packages (19.24.4)\n",
      "Requirement already satisfied: opencv-python in d:\\fiap\\computervision\\computervision-fiap\\.venv\\lib\\site-packages (4.9.0.80)\n",
      "Requirement already satisfied: numpy>=1.21.2 in d:\\fiap\\computervision\\computervision-fiap\\.venv\\lib\\site-packages (from opencv-python) (1.26.4)\n",
      "Requirement already satisfied: cmake in d:\\fiap\\computervision\\computervision-fiap\\.venv\\lib\\site-packages (3.29.2)\n",
      "Requirement already satisfied: face_recognition in d:\\fiap\\computervision\\computervision-fiap\\.venv\\lib\\site-packages (1.3.0)\n",
      "Requirement already satisfied: face-recognition-models>=0.3.0 in d:\\fiap\\computervision\\computervision-fiap\\.venv\\lib\\site-packages (from face_recognition) (0.3.0)\n",
      "Requirement already satisfied: Click>=6.0 in d:\\fiap\\computervision\\computervision-fiap\\.venv\\lib\\site-packages (from face_recognition) (8.1.7)\n",
      "Requirement already satisfied: dlib>=19.7 in d:\\fiap\\computervision\\computervision-fiap\\.venv\\lib\\site-packages (from face_recognition) (19.24.4)\n",
      "Requirement already satisfied: numpy in d:\\fiap\\computervision\\computervision-fiap\\.venv\\lib\\site-packages (from face_recognition) (1.26.4)\n",
      "Requirement already satisfied: Pillow in d:\\fiap\\computervision\\computervision-fiap\\.venv\\lib\\site-packages (from face_recognition) (10.3.0)\n",
      "Requirement already satisfied: colorama in d:\\fiap\\computervision\\computervision-fiap\\.venv\\lib\\site-packages (from Click>=6.0->face_recognition) (0.4.6)\n"
     ]
    }
   ],
   "source": [
    "!pip install dlib\n",
    "!pip install opencv-python\n",
    "!pip install cmake\n",
    "!pip install face_recognition"
   ]
  },
  {
   "cell_type": "code",
   "execution_count": 4,
   "metadata": {},
   "outputs": [],
   "source": [
    "import cv2\n",
    "import face_recognition\n",
    "\n",
    "# Inicializa variável com nome do usuário a ser identificado\n",
    "NOME = 'Vinicius'\n",
    "\n",
    "# Carrega uma imagem de exemplo do seu rosto\n",
    "known_image = face_recognition.load_image_file(\"me.jpg\")\n",
    "known_face_encoding = face_recognition.face_encodings(known_image)[0]\n",
    "\n",
    "# Inicializa algumas variáveis\n",
    "face_locations = []\n",
    "face_encodings = []\n",
    "process_this_frame = True\n",
    "text_to_display = \"\"\n",
    "last_known_face_found = False\n",
    "\n",
    "# Inicializa a webcam\n",
    "video_capture = cv2.VideoCapture(0)\n",
    "\n",
    "while True:\n",
    "    # Captura quadro a quadro do vídeo\n",
    "    ret, frame = video_capture.read()\n",
    "\n",
    "    # Converte a imagem de cor BGR (OpenCV) para RGB (face_recognition)\n",
    "    rgb_frame = frame[:, :, ::-1]\n",
    "\n",
    "    # Redimensiona o quadro para 1/4 do tamanho para um processamento mais rápido de reconhecimento facial\n",
    "    small_rgb_frame = cv2.resize(rgb_frame, (0, 0), fx=0.25, fy=0.25)\n",
    "\n",
    "    # Processa apenas cada segundo quadro de vídeo para economizar tempo\n",
    "    if process_this_frame:\n",
    "        # Encontra todos os rostos e codificações de rostos no quadro atual do vídeo\n",
    "        face_locations = face_recognition.face_locations(small_rgb_frame)\n",
    "        if face_locations:  # Verifica se algum rosto foi encontrado\n",
    "            face_encodings = face_recognition.face_encodings(small_rgb_frame, face_locations)\n",
    "\n",
    "            # Verifica se algum rosto corresponde ao rosto conhecido\n",
    "            if face_encodings:  # Verifica se face_encodings não está vazio\n",
    "                for face_encoding in face_encodings:\n",
    "                    # Compara a codificação de rosto do rosto atual com a codificação de rosto conhecido\n",
    "                    results = face_recognition.compare_faces([known_face_encoding], face_encoding, tolerance=0.6)\n",
    "                    if results[0]:\n",
    "                        if not last_known_face_found:\n",
    "                            text_to_display = f\"Rosto do usuario {NOME} identificado!\"\n",
    "                            last_known_face_found = True\n",
    "                    else:\n",
    "                        text_to_display = \"Rosto desconhecido\"\n",
    "                        last_known_face_found = False\n",
    "        else:\n",
    "            text_to_display = \"Nenhum rosto encontrado\"\n",
    "            last_known_face_found = False\n",
    "\n",
    "    # Exibe o texto no quadro de vídeo\n",
    "    if text_to_display:\n",
    "        cv2.putText(frame, text_to_display, (15, 50), cv2.FONT_HERSHEY_SIMPLEX, 1, (0, 255, 0), 2)\n",
    "\n",
    "    # Exibe a imagem resultante\n",
    "    cv2.imshow('Identificador Facial', frame)\n",
    "\n",
    "    # Pressione 'q' no teclado para sair\n",
    "    if cv2.waitKey(1) & 0xFF == ord('q'):\n",
    "        break\n",
    "\n",
    "    process_this_frame = not process_this_frame\n",
    "\n",
    "# Libera o acesso à webcam\n",
    "video_capture.release()\n",
    "cv2.destroyAllWindows()"
   ]
  }
 ],
 "metadata": {
  "kernelspec": {
   "display_name": ".venv",
   "language": "python",
   "name": "python3"
  },
  "language_info": {
   "codemirror_mode": {
    "name": "ipython",
    "version": 3
   },
   "file_extension": ".py",
   "mimetype": "text/x-python",
   "name": "python",
   "nbconvert_exporter": "python",
   "pygments_lexer": "ipython3",
   "version": "3.11.9"
  }
 },
 "nbformat": 4,
 "nbformat_minor": 2
}
